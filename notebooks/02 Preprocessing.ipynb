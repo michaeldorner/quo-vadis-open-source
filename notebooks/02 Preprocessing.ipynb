{
 "cells": [
  {
   "cell_type": "code",
   "execution_count": 293,
   "metadata": {
    "scrolled": true
   },
   "outputs": [],
   "source": [
    "from tqdm.notebook import tqdm\n",
    "import json\n",
    "import collections\n",
    "import pandas as pd\n",
    "import numpy as np"
   ]
  },
  {
   "cell_type": "markdown",
   "metadata": {},
   "source": [
    "## Load JSON files"
   ]
  },
  {
   "cell_type": "code",
   "execution_count": 294,
   "metadata": {},
   "outputs": [],
   "source": [
    "with open('./../data/activity_facts.json', 'rb') as f:\n",
    "    activity_facts_dict = json.load(f)\n",
    "activities = pd.DataFrame(activity_facts_dict).drop_duplicates()"
   ]
  },
  {
   "cell_type": "code",
   "execution_count": 295,
   "metadata": {
    "scrolled": true
   },
   "outputs": [],
   "source": [
    "with open('./../data/analyses.json', 'r') as f:\n",
    "    analyses_dict = json.load(f)\n",
    "\n",
    "analyses_dict_cleaned = []\n",
    "for d in analyses_dict:\n",
    "    d.pop('factoids', None)\n",
    "    d.pop('languages', None)\n",
    "    analyses_dict_cleaned += [d]\n",
    "\n",
    "analyses = pd.DataFrame(analyses_dict_cleaned).drop_duplicates()"
   ]
  },
  {
   "cell_type": "code",
   "execution_count": 296,
   "metadata": {},
   "outputs": [],
   "source": [
    "with open('./../data/html_pages.json', 'r') as f:\n",
    "    html_pages_dict = json.load(f)\n",
    "html_pages = pd.DataFrame(html_pages_dict).drop_duplicates()"
   ]
  },
  {
   "cell_type": "markdown",
   "metadata": {},
   "source": [
    "# Fix data types"
   ]
  },
  {
   "cell_type": "code",
   "execution_count": 297,
   "metadata": {
    "scrolled": true
   },
   "outputs": [
    {
     "data": {
      "text/plain": [
       "month               datetime64[ns]\n",
       "code_added                  object\n",
       "code_removed                object\n",
       "comments_added              object\n",
       "comments_removed            object\n",
       "blanks_added                object\n",
       "blanks_removed              object\n",
       "commits                     object\n",
       "contributors                object\n",
       "project_id                  object\n",
       "dtype: object"
      ]
     },
     "execution_count": 297,
     "metadata": {},
     "output_type": "execute_result"
    }
   ],
   "source": [
    "activities.month = pd.to_datetime(activities.month).dt.tz_localize(None)\n",
    "for column in set(activities.columns) - {'month', 'project_id'}:\n",
    "    activity_facts[column] = activities[column].astype(int)\n",
    "activities.dtypes"
   ]
  },
  {
   "cell_type": "code",
   "execution_count": 338,
   "metadata": {
    "scrolled": true
   },
   "outputs": [
    {
     "data": {
      "text/plain": [
       "updated_at    datetime64[ns]\n",
       "min_month     datetime64[ns]\n",
       "max_month     datetime64[ns]\n",
       "dtype: object"
      ]
     },
     "execution_count": 338,
     "metadata": {},
     "output_type": "execute_result"
    }
   ],
   "source": [
    "analyses.min_month = pd.to_datetime(analyses.min_month).dt.tz_localize(None)\n",
    "analyses.max_month = pd.to_datetime(analyses.max_month).dt.tz_localize(None)\n",
    "analyses.updated_at = pd.to_datetime(analyses.updated_at).dt.tz_localize(None)\n",
    "analyses.oldest_code_set_time = pd.to_datetime(analyses.oldest_code_set_time).dt.tz_localize(None)\n",
    "\n",
    "projects = analyses.groupby('project_id')[['updated_at', 'min_month', 'max_month']].max()\n",
    "\n",
    "projects.dtypes"
   ]
  },
  {
   "cell_type": "markdown",
   "metadata": {},
   "source": [
    "# Trim"
   ]
  },
  {
   "cell_type": "code",
   "execution_count": 360,
   "metadata": {},
   "outputs": [],
   "source": [
    "trimmed_activities = activities[(activities.month.dt.year>=1991) & (activities.month.dt.year<=2020)]"
   ]
  },
  {
   "cell_type": "code",
   "execution_count": 356,
   "metadata": {
    "scrolled": true
   },
   "outputs": [],
   "source": [
    "available_projects = set(trimmed_activities.project_id)\n",
    "duplicates = set(html_pages[html_pages.duplicate_link != ''].project_id)"
   ]
  },
  {
   "cell_type": "code",
   "execution_count": 365,
   "metadata": {},
   "outputs": [
    {
     "data": {
      "text/plain": [
       "173036"
      ]
     },
     "execution_count": 365,
     "metadata": {},
     "output_type": "execute_result"
    }
   ],
   "source": [
    "len(available_projects)"
   ]
  },
  {
   "cell_type": "code",
   "execution_count": 357,
   "metadata": {},
   "outputs": [
    {
     "data": {
      "text/plain": [
       "{'494454'}"
      ]
     },
     "execution_count": 357,
     "metadata": {},
     "output_type": "execute_result"
    }
   ],
   "source": [
    "duplicates"
   ]
  },
  {
   "cell_type": "code",
   "execution_count": 358,
   "metadata": {},
   "outputs": [],
   "source": [
    "valid_projects = projects[projects.index.isin(available_projects-duplicates)]"
   ]
  },
  {
   "cell_type": "code",
   "execution_count": 359,
   "metadata": {},
   "outputs": [],
   "source": [
    "valid_projects.to_hdf('../data/openhub.h5', key='valid_projects')"
   ]
  },
  {
   "cell_type": "markdown",
   "metadata": {},
   "source": [
    "# Fill all activities"
   ]
  },
  {
   "cell_type": "code",
   "execution_count": 347,
   "metadata": {},
   "outputs": [],
   "source": [
    "def fill(project_id, df, last_seen):\n",
    "    df = df.set_index('month')\n",
    "    \n",
    "    if last_seen:\n",
    "        ts = min(last_seen.to_datetime64(), np.datetime64('2020-12-01T00:00:00.000000000'))\n",
    "        try:\n",
    "            df = df.append(new_entry, verify_integrity=True, sort=False).sort_index() \n",
    "        except: # entry (month) does already exist\n",
    "            pass\n",
    "    df = df.asfreq('MS', fill_value=0)\n",
    "    df['project_id'] = project_id\n",
    "    return df"
   ]
  },
  {
   "cell_type": "code",
   "execution_count": 348,
   "metadata": {},
   "outputs": [],
   "source": [
    "last_seen_dict = dict((valid_projects.updated_at.astype('datetime64[M]')) - pd.DateOffset(months=1))"
   ]
  },
  {
   "cell_type": "code",
   "execution_count": 349,
   "metadata": {
    "scrolled": true
   },
   "outputs": [
    {
     "data": {
      "application/vnd.jupyter.widget-view+json": {
       "model_id": "7367c996390b410eafbcfb44674402e3",
       "version_major": 2,
       "version_minor": 0
      },
      "text/plain": [
       "  0%|          | 0/168510 [00:00<?, ?it/s]"
      ]
     },
     "metadata": {},
     "output_type": "display_data"
    }
   ],
   "source": [
    "filled_activities = [fill(*group, last_seen_dict.get(group[0])) for group in tqdm(groups)]"
   ]
  },
  {
   "cell_type": "code",
   "execution_count": 352,
   "metadata": {
    "scrolled": true
   },
   "outputs": [],
   "source": [
    "final = pd.concat(filled_activities).reset_index().rename(columns={'index': 'month'})"
   ]
  },
  {
   "cell_type": "code",
   "execution_count": 353,
   "metadata": {},
   "outputs": [],
   "source": [
    "final.set_index(['month', 'project_id']).sort_index().to_hdf('../data/openhub.h5', key='filled_activities')"
   ]
  },
  {
   "cell_type": "code",
   "execution_count": null,
   "metadata": {},
   "outputs": [],
   "source": []
  }
 ],
 "metadata": {
  "kernelspec": {
   "display_name": "Python 3",
   "language": "python",
   "name": "python3"
  },
  "language_info": {
   "codemirror_mode": {
    "name": "ipython",
    "version": 3
   },
   "file_extension": ".py",
   "mimetype": "text/x-python",
   "name": "python",
   "nbconvert_exporter": "python",
   "pygments_lexer": "ipython3",
   "version": "3.6.9"
  }
 },
 "nbformat": 4,
 "nbformat_minor": 2
}
