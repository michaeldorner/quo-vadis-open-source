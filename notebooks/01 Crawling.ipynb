{
 "cells": [
  {
   "cell_type": "code",
   "execution_count": 1,
   "metadata": {},
   "outputs": [],
   "source": [
    "import requests\n",
    "import requests_futures.sessions  \n",
    "from tqdm.notebook import tqdm\n",
    "import xmltodict\n",
    "import lxml.html\n",
    "\n",
    "import concurrent.futures\n",
    "import random\n",
    "import collections\n",
    "import json"
   ]
  },
  {
   "cell_type": "code",
   "execution_count": 2,
   "metadata": {},
   "outputs": [],
   "source": [
    "def parse_xml(xml_data: str):\n",
    "    def od2d(val):\n",
    "        if isinstance(val, (collections.OrderedDict, dict)):\n",
    "            return {k: od2d(v) for k, v in val.items()}\n",
    "        elif isinstance(val, (tuple, list)):\n",
    "            return [od2d(v) for v in val]\n",
    "        else:\n",
    "            return val\n",
    "    return od2d(xmltodict.parse(xml_data))"
   ]
  },
  {
   "cell_type": "code",
   "execution_count": 3,
   "metadata": {},
   "outputs": [],
   "source": [
    "def parse_html(html_string: str):\n",
    "    links = set()\n",
    "    html = lxml.html.fromstring(html_string)\n",
    "    for alert_info in list(html.find_class('alert alert-info')):\n",
    "        links |= set([link[2] for link in alert_info.iterlinks()])\n",
    "\n",
    "    duplicate_link = None\n",
    "    no_code_link = None\n",
    "    for link in links:\n",
    "        if 'enlistments' in link:\n",
    "            no_code_link = link\n",
    "        else:\n",
    "            duplicate_link = link\n",
    "            \n",
    "    project_id = resp.url.split('/')[4]\n",
    "    return {'project_id': project_id, 'duplicate_link': duplicate_link, 'no_code_link': no_code_link}"
   ]
  },
  {
   "cell_type": "code",
   "execution_count": 4,
   "metadata": {},
   "outputs": [],
   "source": [
    "def load_from_futures(futures, key : str):\n",
    "    results = []\n",
    "    for future in tqdm(futures):\n",
    "        resp = future.result()\n",
    "        assert resp.status_code in [200, 404], 'status code {} found'.format(resp.status_code)\n",
    "\n",
    "        project_id = resp.url.split('/')[4]\n",
    "\n",
    "        d = parse_xml(resp.text)\n",
    "\n",
    "        try:\n",
    "            res = d['response']['result'][key]\n",
    "            if isinstance(res, dict):\n",
    "                res = [res]\n",
    "            for r in res:\n",
    "                r['project_id'] = project_id\n",
    "                results += [r]\n",
    "        except KeyError as e:\n",
    "            pass\n",
    "    return results"
   ]
  },
  {
   "cell_type": "code",
   "execution_count": 5,
   "metadata": {},
   "outputs": [],
   "source": [
    "with open('./api_keys.json', 'r') as f:\n",
    "    api_keys = json.load(f)"
   ]
  },
  {
   "cell_type": "code",
   "execution_count": 6,
   "metadata": {},
   "outputs": [],
   "source": [
    "retries = requests.packages.urllib3.util.retry.Retry(\n",
    "    total=10, \n",
    "    backoff_factor=1, \n",
    "    status_forcelist=[401, 429, 500, 502, 503, 504]\n",
    ")\n",
    "http_adapter = requests.adapters.HTTPAdapter(max_retries=retries)\n",
    "timeout = 10*60"
   ]
  },
  {
   "cell_type": "code",
   "execution_count": 7,
   "metadata": {
    "scrolled": false
   },
   "outputs": [
    {
     "data": {
      "application/vnd.jupyter.widget-view+json": {
       "model_id": "1483032b20a84f67bbff69d2257cea58",
       "version_major": 2,
       "version_minor": 0
      },
      "text/plain": [
       "  0%|          | 0/49999 [00:00<?, ?it/s]"
      ]
     },
     "metadata": {},
     "output_type": "display_data"
    }
   ],
   "source": [
    "with requests_futures.sessions.FuturesSession(max_workers=8) as session:\n",
    "    session.mount(\"https://\", http_adapter)\n",
    "\n",
    "    pages_futures = [session.get('https://www.openhub.net/projects.xml', params={'page': page, 'api_key': random.choice(api_keys)}, timeout=timeout) for page in range(1, 50000)]\n",
    "    \n",
    "    for future in tqdm(concurrent.futures.as_completed(pages_futures), total=len(pages_futures)):\n",
    "        future.done()"
   ]
  },
  {
   "cell_type": "code",
   "execution_count": null,
   "metadata": {},
   "outputs": [
    {
     "data": {
      "application/vnd.jupyter.widget-view+json": {
       "model_id": "3a17e475d83a462bac8a3caa0b4412a2",
       "version_major": 2,
       "version_minor": 0
      },
      "text/plain": [
       "  0%|          | 0/49999 [00:00<?, ?it/s]"
      ]
     },
     "metadata": {},
     "output_type": "display_data"
    }
   ],
   "source": [
    "project_ids = []\n",
    "for future in tqdm(pages_futures):\n",
    "    resp = future.result()\n",
    "    assert(resp.status_code==200)\n",
    "    xml_response = xmltodict.parse(resp.text)['response']\n",
    "    if 'result' in xml_response:\n",
    "        for project in xml_response['result']['project']:\n",
    "            project_ids += [project['id']]\n",
    "project_ids = list(set(project_ids))"
   ]
  },
  {
   "cell_type": "code",
   "execution_count": 10,
   "metadata": {},
   "outputs": [],
   "source": [
    "# with open('./../data/project_ids.json', 'w') as f:\n",
    "#     json.dump(project_ids, f)\n",
    "with open('./../data/project_ids.json', 'r') as f:\n",
    "    project_ids = json.load(f)"
   ]
  },
  {
   "cell_type": "code",
   "execution_count": 13,
   "metadata": {
    "scrolled": false
   },
   "outputs": [
    {
     "data": {
      "application/vnd.jupyter.widget-view+json": {
       "model_id": "821c95d992e84d4d8604b8fa159cc436",
       "version_major": 2,
       "version_minor": 0
      },
      "text/plain": [
       "  0%|          | 0/352916 [00:00<?, ?it/s]"
      ]
     },
     "metadata": {},
     "output_type": "display_data"
    }
   ],
   "source": [
    "with requests_futures.sessions.FuturesSession(max_workers=8) as session:\n",
    "    session.mount(\"https://\", http_adapter)\n",
    "    \n",
    "    activity_facts_futures = [session.get('https://www.openhub.net/projects/{}/analyses/latest/activity_facts.xml'.format(project_id), params={'api_key': random.choice(api_keys)}, timeout=timeout) for project_id in project_ids]\n",
    "    \n",
    "    for future in tqdm(concurrent.futures.as_completed(activity_facts_futures), total=len(activity_facts_futures)):\n",
    "        future.done()"
   ]
  },
  {
   "cell_type": "code",
   "execution_count": null,
   "metadata": {
    "scrolled": false
   },
   "outputs": [
    {
     "data": {
      "application/vnd.jupyter.widget-view+json": {
       "model_id": "a3f01501611e4c28913f812fdc92fee7",
       "version_major": 2,
       "version_minor": 0
      },
      "text/plain": [
       "  0%|          | 0/352916 [00:00<?, ?it/s]"
      ]
     },
     "metadata": {},
     "output_type": "display_data"
    }
   ],
   "source": [
    "activity_facts = load_from_futures(activity_facts_futures, 'activity_fact')"
   ]
  },
  {
   "cell_type": "code",
   "execution_count": null,
   "metadata": {},
   "outputs": [],
   "source": [
    "with open('./../data/activity_facts1.json', 'w') as f:\n",
    "    json.dump(activity_facts, f)"
   ]
  },
  {
   "cell_type": "markdown",
   "metadata": {},
   "source": [
    "---"
   ]
  },
  {
   "cell_type": "code",
   "execution_count": null,
   "metadata": {},
   "outputs": [],
   "source": [
    "with requests_futures.sessions.FuturesSession(max_workers=8) as session:\n",
    "    session.mount(\"https://\", http_adapter)\n",
    "\n",
    "    analyses_futures = [session.get('https://www.openhub.net/projects/{}/analyses/latest.xml'.format(project_id), params={'api_key': random.choice(api_keys)}, timeout=timeout) for project_id in project_ids]\n",
    "    \n",
    "    for future in tqdm(concurrent.futures.as_completed(analyses_futures), total=len(analyses_futures)):\n",
    "        future.done()"
   ]
  },
  {
   "cell_type": "code",
   "execution_count": null,
   "metadata": {
    "scrolled": true
   },
   "outputs": [],
   "source": [
    "analyses = load_from_futures(analyses_futures, 'analysis')"
   ]
  },
  {
   "cell_type": "code",
   "execution_count": null,
   "metadata": {
    "scrolled": true
   },
   "outputs": [],
   "source": [
    "with open('./../data/analyses1.json', 'w') as f:\n",
    "    json.dump(analyses, f)"
   ]
  },
  {
   "cell_type": "code",
   "execution_count": null,
   "metadata": {
    "scrolled": true
   },
   "outputs": [
    {
     "data": {
      "application/vnd.jupyter.widget-view+json": {
       "model_id": "5ebb48c666444f9e8114112b2d994d3f",
       "version_major": 2,
       "version_minor": 0
      },
      "text/plain": [
       "  0%|          | 0/352916 [00:00<?, ?it/s]"
      ]
     },
     "metadata": {},
     "output_type": "display_data"
    }
   ],
   "source": [
    "with requests_futures.sessions.FuturesSession(max_workers=8) as session:\n",
    "    session.mount(\"https://\", http_adapter)\n",
    "\n",
    "    html_futures = [session.get('https://www.openhub.net/p/{}.html'.format(project_id), timeout=timeout) for project_id in project_ids]\n",
    "    \n",
    "    for future in tqdm(concurrent.futures.as_completed(html_futures), total=len(html_futures)):\n",
    "        future.done()"
   ]
  },
  {
   "cell_type": "code",
   "execution_count": null,
   "metadata": {
    "scrolled": true
   },
   "outputs": [],
   "source": [
    "html_pages = [load_html(future.result().text) for future in tqdm(html_futures)]"
   ]
  },
  {
   "cell_type": "code",
   "execution_count": null,
   "metadata": {},
   "outputs": [],
   "source": [
    "with open('./../data/html_pages.json', 'w') as f:\n",
    "    json.dump(html_pages, f)"
   ]
  },
  {
   "cell_type": "code",
   "execution_count": null,
   "metadata": {},
   "outputs": [],
   "source": []
  }
 ],
 "metadata": {
  "kernelspec": {
   "display_name": "Python 3",
   "language": "python",
   "name": "python3"
  },
  "language_info": {
   "codemirror_mode": {
    "name": "ipython",
    "version": 3
   },
   "file_extension": ".py",
   "mimetype": "text/x-python",
   "name": "python",
   "nbconvert_exporter": "python",
   "pygments_lexer": "ipython3",
   "version": "3.6.9"
  }
 },
 "nbformat": 4,
 "nbformat_minor": 2
}
