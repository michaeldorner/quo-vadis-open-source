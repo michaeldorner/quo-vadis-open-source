{
 "cells": [
  {
   "cell_type": "code",
   "execution_count": 78,
   "metadata": {},
   "outputs": [],
   "source": [
    "import requests\n",
    "import requests_futures.sessions  \n",
    "from tqdm.notebook import tqdm\n",
    "import xmltodict\n",
    "import lxml.html\n",
    "\n",
    "import concurrent.futures\n",
    "import random\n",
    "import collections\n",
    "import json\n",
    "from datetime import datetime\n",
    "import hashlib"
   ]
  },
  {
   "cell_type": "code",
   "execution_count": 77,
   "metadata": {},
   "outputs": [],
   "source": [
    "def now():\n",
    "    return datetime.now().strftime('%Y-%m-%d %H:%M:%S')"
   ]
  },
  {
   "cell_type": "markdown",
   "metadata": {},
   "source": [
    "Due to the [Black Duck Academic Use Agreement](https://web.archive.org/web/20170619090829/https://blog.openhub.net/academic-use-agreement), we are required to anonymize or remove the project ids and names from the data set"
   ]
  },
  {
   "cell_type": "code",
   "execution_count": 266,
   "metadata": {},
   "outputs": [],
   "source": [
    "def anonymize(data: list):\n",
    "    def md5(s: str):\n",
    "        return hashlib.md5(s.encode('utf-8')).hexdigest()\n",
    "    \n",
    "    anonymized_data = []\n",
    "    for d in data:\n",
    "        d = d.copy()\n",
    "        d['project_id'] = md5(d['project_id'])\n",
    "        \n",
    "        if 'url_name' in d:\n",
    "            d['url_name'] = md5(d['url_name'])\n",
    "        \n",
    "        if d.get('original_project_name') != None:\n",
    "            d['original_project_name'] = md5(d['original_project_name'])\n",
    "        \n",
    "        for k in ['url', 'languages', 'factoids']:\n",
    "            d.pop(k, None)\n",
    "        anonymized_data += [d]\n",
    "        \n",
    "    return anonymized_data"
   ]
  },
  {
   "cell_type": "code",
   "execution_count": 30,
   "metadata": {},
   "outputs": [],
   "source": [
    "def parse_xml(xml_data: str):\n",
    "    def od2d(val):\n",
    "        if isinstance(val, (collections.OrderedDict, dict)):\n",
    "            return {k: od2d(v) for k, v in val.items()}\n",
    "        elif isinstance(val, (tuple, list)):\n",
    "            return [od2d(v) for v in val]\n",
    "        else:\n",
    "            return val\n",
    "    return od2d(xmltodict.parse(xml_data))"
   ]
  },
  {
   "cell_type": "code",
   "execution_count": 32,
   "metadata": {},
   "outputs": [],
   "source": [
    "def load_from_futures(futures, key : str):\n",
    "    results = []\n",
    "    for future in tqdm(futures):\n",
    "        resp = future.result()\n",
    "        assert resp.status_code in [200, 404], 'status code {} found'.format(resp.status_code)\n",
    "\n",
    "        project_id = resp.url.split('/')[4]\n",
    "\n",
    "        d = parse_xml(resp.text)\n",
    "\n",
    "        try:\n",
    "            res = d['response']['result'][key]\n",
    "            if isinstance(res, dict):\n",
    "                res = [res]\n",
    "            for r in res:\n",
    "                r['project_id'] = project_id\n",
    "                results += [r]\n",
    "        except KeyError as e:\n",
    "            pass\n",
    "    return results"
   ]
  },
  {
   "cell_type": "code",
   "execution_count": 33,
   "metadata": {},
   "outputs": [],
   "source": [
    "with open('./api_keys.json', 'r') as f:\n",
    "    api_keys = json.load(f)"
   ]
  },
  {
   "cell_type": "code",
   "execution_count": 34,
   "metadata": {},
   "outputs": [],
   "source": [
    "retries = requests.packages.urllib3.util.retry.Retry(\n",
    "    total=10, \n",
    "    backoff_factor=1, \n",
    "    status_forcelist=[401, 429, 500, 502, 503, 504]\n",
    ")\n",
    "http_adapter = requests.adapters.HTTPAdapter(max_retries=retries)\n",
    "timeout = 10*60"
   ]
  },
  {
   "cell_type": "markdown",
   "metadata": {},
   "source": [
    "---"
   ]
  },
  {
   "cell_type": "markdown",
   "metadata": {},
   "source": [
    "# Get project IDs"
   ]
  },
  {
   "cell_type": "code",
   "execution_count": null,
   "metadata": {
    "scrolled": false
   },
   "outputs": [
    {
     "data": {
      "application/vnd.jupyter.widget-view+json": {
       "model_id": "12f47ab89eb84533b023bf44daab7fe1",
       "version_major": 2,
       "version_minor": 0
      },
      "text/plain": [
       "  0%|          | 0/49999 [00:00<?, ?it/s]"
      ]
     },
     "metadata": {},
     "output_type": "display_data"
    }
   ],
   "source": [
    "with requests_futures.sessions.FuturesSession(max_workers=8) as session:\n",
    "    session.mount(\"https://\", http_adapter)\n",
    "\n",
    "    pages_futures = [session.get('https://www.openhub.net/projects.xml', params={'page': page, 'api_key': random.choice(api_keys)}, timeout=timeout) for page in range(1, 50000)]\n",
    "    \n",
    "    for future in tqdm(concurrent.futures.as_completed(pages_futures), total=len(pages_futures)):\n",
    "        future.done()"
   ]
  },
  {
   "cell_type": "code",
   "execution_count": 226,
   "metadata": {},
   "outputs": [
    {
     "data": {
      "application/vnd.jupyter.widget-view+json": {
       "model_id": "3acbc6b430f24bf795f89cd78100e620",
       "version_major": 2,
       "version_minor": 0
      },
      "text/plain": [
       "  0%|          | 0/49999 [00:00<?, ?it/s]"
      ]
     },
     "metadata": {},
     "output_type": "display_data"
    }
   ],
   "source": [
    "projects = []\n",
    "\n",
    "for future in tqdm(pages_futures):\n",
    "    resp = future.result()\n",
    "    assert resp.status_code==200\n",
    "    xml_response = xmltodict.parse(resp.text)['response']\n",
    "    if 'result' in xml_response:\n",
    "        for project in xml_response['result']['project']:\n",
    "            projects += [{'project_id': project['id'], 'url_name': project['url_name']}]\n",
    "projects = list({v['project_id']: v for v in projects}.values())\n",
    "project_ids = [p['project_id'] for p in projects]"
   ]
  },
  {
   "cell_type": "code",
   "execution_count": 271,
   "metadata": {
    "scrolled": true
   },
   "outputs": [],
   "source": [
    "projects_anonymized = anonymize(projects)"
   ]
  },
  {
   "cell_type": "code",
   "execution_count": 279,
   "metadata": {},
   "outputs": [],
   "source": [
    "with open('./../data/projects/{}.json'.format(now()), 'w') as f:\n",
    "    json.dump(projects, f)"
   ]
  },
  {
   "cell_type": "code",
   "execution_count": 260,
   "metadata": {},
   "outputs": [],
   "source": [
    "with open('./../data/projects/project_ids.json', 'w') as f:\n",
    "    json.dump(project_ids, f)"
   ]
  },
  {
   "cell_type": "markdown",
   "metadata": {},
   "source": [
    "---"
   ]
  },
  {
   "cell_type": "markdown",
   "metadata": {},
   "source": [
    "# Get all activity facts"
   ]
  },
  {
   "cell_type": "code",
   "execution_count": 37,
   "metadata": {},
   "outputs": [],
   "source": [
    "with open('./../data/project_ids/project_ids.json', 'r') as f:\n",
    "    project_ids = json.load(f)"
   ]
  },
  {
   "cell_type": "code",
   "execution_count": 38,
   "metadata": {
    "scrolled": false
   },
   "outputs": [
    {
     "data": {
      "application/vnd.jupyter.widget-view+json": {
       "model_id": "7917eb8f1173484ca89853dae30f6a9b",
       "version_major": 2,
       "version_minor": 0
      },
      "text/plain": [
       "  0%|          | 0/355111 [00:00<?, ?it/s]"
      ]
     },
     "metadata": {},
     "output_type": "display_data"
    }
   ],
   "source": [
    "with requests_futures.sessions.FuturesSession(max_workers=8) as session:\n",
    "    session.mount(\"https://\", http_adapter)\n",
    "    \n",
    "    activity_facts_futures = [session.get('https://www.openhub.net/projects/{}/analyses/latest/activity_facts.xml'.format(project_id), params={'api_key': random.choice(api_keys)}, timeout=timeout) for project_id in project_ids]\n",
    "    \n",
    "    for _ in tqdm(concurrent.futures.as_completed(activity_facts_futures), total=len(activity_facts_futures)):\n",
    "        pass"
   ]
  },
  {
   "cell_type": "code",
   "execution_count": 286,
   "metadata": {
    "scrolled": true
   },
   "outputs": [
    {
     "data": {
      "application/vnd.jupyter.widget-view+json": {
       "model_id": "977f3684a78943b4998a5ceea9778bb6",
       "version_major": 2,
       "version_minor": 0
      },
      "text/plain": [
       "  0%|          | 0/355111 [00:00<?, ?it/s]"
      ]
     },
     "metadata": {},
     "output_type": "display_data"
    }
   ],
   "source": [
    "activity_facts = load_from_futures(activity_facts_futures, 'activity_fact')"
   ]
  },
  {
   "cell_type": "code",
   "execution_count": 287,
   "metadata": {},
   "outputs": [],
   "source": [
    "activity_facts_anonymized = anonymize(activity_facts)"
   ]
  },
  {
   "cell_type": "code",
   "execution_count": 288,
   "metadata": {},
   "outputs": [],
   "source": [
    "with open('./../data/activity_facts/{}.json'.format(now()), 'w') as f:\n",
    "    json.dump(activity_facts_anonymized, f)"
   ]
  },
  {
   "cell_type": "markdown",
   "metadata": {},
   "source": [
    "---"
   ]
  },
  {
   "cell_type": "markdown",
   "metadata": {},
   "source": [
    "# Get analyses"
   ]
  },
  {
   "cell_type": "code",
   "execution_count": 73,
   "metadata": {},
   "outputs": [
    {
     "data": {
      "application/vnd.jupyter.widget-view+json": {
       "model_id": "8e7e10f655c74f56ae1bd6326b88a2e1",
       "version_major": 2,
       "version_minor": 0
      },
      "text/plain": [
       "  0%|          | 0/355111 [00:00<?, ?it/s]"
      ]
     },
     "metadata": {},
     "output_type": "display_data"
    }
   ],
   "source": [
    "with requests_futures.sessions.FuturesSession(max_workers=8) as session:\n",
    "    session.mount(\"https://\", http_adapter)\n",
    "\n",
    "    analyses_futures = [session.get('https://www.openhub.net/projects/{}/analyses/latest.xml'.format(project_id), params={'api_key': random.choice(api_keys)}, timeout=timeout) for project_id in project_ids]\n",
    "    \n",
    "    for _ in tqdm(concurrent.futures.as_completed(analyses_futures), total=len(analyses_futures)):\n",
    "        pass"
   ]
  },
  {
   "cell_type": "code",
   "execution_count": 289,
   "metadata": {
    "scrolled": true
   },
   "outputs": [
    {
     "data": {
      "application/vnd.jupyter.widget-view+json": {
       "model_id": "3673cc0da2444ca9adcd309a49428b8f",
       "version_major": 2,
       "version_minor": 0
      },
      "text/plain": [
       "  0%|          | 0/355111 [00:00<?, ?it/s]"
      ]
     },
     "metadata": {},
     "output_type": "display_data"
    }
   ],
   "source": [
    "analyses = load_from_futures(analyses_futures, 'analysis')"
   ]
  },
  {
   "cell_type": "code",
   "execution_count": 290,
   "metadata": {},
   "outputs": [],
   "source": [
    "analyses_anonymized = anonymize(analyses)"
   ]
  },
  {
   "cell_type": "code",
   "execution_count": 291,
   "metadata": {
    "scrolled": true
   },
   "outputs": [],
   "source": [
    "with open('./../data/analyses/{}.json'.format(now()), 'w') as f:\n",
    "    json.dump(analyses_anonymized, f)"
   ]
  },
  {
   "cell_type": "markdown",
   "metadata": {},
   "source": [
    "---"
   ]
  },
  {
   "cell_type": "markdown",
   "metadata": {},
   "source": [
    "# Get HTML pages"
   ]
  },
  {
   "cell_type": "code",
   "execution_count": 49,
   "metadata": {
    "scrolled": true
   },
   "outputs": [
    {
     "data": {
      "application/vnd.jupyter.widget-view+json": {
       "model_id": "27e9063ad2674d00a1dd7b16a800ecb5",
       "version_major": 2,
       "version_minor": 0
      },
      "text/plain": [
       "  0%|          | 0/355111 [00:00<?, ?it/s]"
      ]
     },
     "metadata": {},
     "output_type": "display_data"
    }
   ],
   "source": [
    "with requests_futures.sessions.FuturesSession(max_workers=8) as session:\n",
    "    session.mount(\"https://\", http_adapter)\n",
    "\n",
    "    html_futures = [session.get('https://www.openhub.net/p/{}.html'.format(project_id), timeout=timeout) for project_id in project_ids]\n",
    "    \n",
    "    for _ in tqdm(concurrent.futures.as_completed(html_futures), total=len(html_futures)):\n",
    "        pass"
   ]
  },
  {
   "cell_type": "code",
   "execution_count": 252,
   "metadata": {},
   "outputs": [],
   "source": [
    "def parse_html(resp):\n",
    "    html_string = resp.text\n",
    "    project_id = resp.url.split('/')[4][:-5]\n",
    "    \n",
    "    links = set()\n",
    "    html = lxml.html.fromstring(html_string)\n",
    "    for alert_info in list(html.find_class('alert alert-info')):\n",
    "        links |= set([link[2] for link in alert_info.iterlinks()])\n",
    "\n",
    "    original_project_name = None\n",
    "    code_available = True\n",
    "    for link in links:\n",
    "        if 'enlistments' in link:\n",
    "            code_available = False\n",
    "        else:\n",
    "            original_project_name = link.split('/')[-1]\n",
    "            \n",
    "    return {'project_id': project_id, 'original_project_name': original_project_name, 'code_available': code_available}"
   ]
  },
  {
   "cell_type": "code",
   "execution_count": 292,
   "metadata": {
    "scrolled": false
   },
   "outputs": [
    {
     "data": {
      "application/vnd.jupyter.widget-view+json": {
       "model_id": "b187d1faf71f4c83b1934b092012e940",
       "version_major": 2,
       "version_minor": 0
      },
      "text/plain": [
       "  0%|          | 0/355111 [00:00<?, ?it/s]"
      ]
     },
     "metadata": {},
     "output_type": "display_data"
    }
   ],
   "source": [
    "html_pages = [parse_html(future.result()) for future in tqdm(html_futures)]"
   ]
  },
  {
   "cell_type": "code",
   "execution_count": 293,
   "metadata": {},
   "outputs": [],
   "source": [
    "html_pages_anonymized = anonymize(html_pages)"
   ]
  },
  {
   "cell_type": "code",
   "execution_count": 294,
   "metadata": {},
   "outputs": [],
   "source": [
    "with open('./../data/html_pages/{}.json'.format(now()), 'w') as f:\n",
    "    json.dump(html_pages_anonymized, f)"
   ]
  },
  {
   "cell_type": "code",
   "execution_count": null,
   "metadata": {},
   "outputs": [],
   "source": []
  }
 ],
 "metadata": {
  "kernelspec": {
   "display_name": "Python 3",
   "language": "python",
   "name": "python3"
  },
  "language_info": {
   "codemirror_mode": {
    "name": "ipython",
    "version": 3
   },
   "file_extension": ".py",
   "mimetype": "text/x-python",
   "name": "python",
   "nbconvert_exporter": "python",
   "pygments_lexer": "ipython3",
   "version": "3.6.9"
  }
 },
 "nbformat": 4,
 "nbformat_minor": 2
}
